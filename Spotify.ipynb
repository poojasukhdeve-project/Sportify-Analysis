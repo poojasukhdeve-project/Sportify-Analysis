{
  "nbformat": 4,
  "nbformat_minor": 0,
  "metadata": {
    "colab": {
      "provenance": [],
      "authorship_tag": "ABX9TyNMf9kVbRs3AYZkhCkGOfoe",
      "include_colab_link": true
    },
    "kernelspec": {
      "name": "python3",
      "display_name": "Python 3"
    },
    "language_info": {
      "name": "python"
    }
  },
  "cells": [
    {
      "cell_type": "markdown",
      "metadata": {
        "id": "view-in-github",
        "colab_type": "text"
      },
      "source": [
        "<a href=\"https://colab.research.google.com/github/poojasukhdeve-project/Sportify-Analysis/blob/main/Spotify.ipynb\" target=\"_parent\"><img src=\"https://colab.research.google.com/assets/colab-badge.svg\" alt=\"Open In Colab\"/></a>"
      ]
    },
    {
      "cell_type": "markdown",
      "source": [
        "# Spotify Data Analysis\n"
      ],
      "metadata": {
        "id": "UJzBmY9O_sDy"
      }
    },
    {
      "cell_type": "markdown",
      "source": [
        "### **Load the Dataset**\n"
      ],
      "metadata": {
        "id": "7MDJOH-Kr_aC"
      }
    },
    {
      "cell_type": "code",
      "execution_count": 34,
      "metadata": {
        "colab": {
          "base_uri": "https://localhost:8080/",
          "height": 275
        },
        "id": "3jRAYuNz_hon",
        "outputId": "dd34d3a1-d16c-4ebb-aa16-552d9d1b9685"
      },
      "outputs": [
        {
          "output_type": "execute_result",
          "data": {
            "text/plain": [
              "         date country  position  streams                track_id  \\\n",
              "0   4/15/2021      de        82   625718  20IvMlpi4U5RuDnAlXSRiV   \n",
              "1   1/31/2019      jp       171    50896  0V1K6MU0utODk4yNqZKsFv   \n",
              "2  11/15/2018      tr        59   185439  4qzZm5EIdFurBpDieEmVc9   \n",
              "3  11/22/2018      tr       133   111159  4qzZm5EIdFurBpDieEmVc9   \n",
              "4  11/29/2018      tr       166    96204  4qzZm5EIdFurBpDieEmVc9   \n",
              "\n",
              "          artists                                      artist_genres  \\\n",
              "0  ['Haftbefehl']                                 ['german hip hop']   \n",
              "1     ['Suchmos']  ['japanese r&b', 'j-rock', 'japanese soul', 'j...   \n",
              "2    ['Nilipek.']      ['turkish singer-songwriter', 'turkish rock']   \n",
              "3    ['Nilipek.']      ['turkish singer-songwriter', 'turkish rock']   \n",
              "4    ['Nilipek.']      ['turkish singer-songwriter', 'turkish rock']   \n",
              "\n",
              "   duration  explicit                name  \n",
              "0    198746     False          Crackküche  \n",
              "1    408320     False               WATER  \n",
              "2    257142     False  Gözleri Aşka Gülen  \n",
              "3    257142     False  Gözleri Aşka Gülen  \n",
              "4    257142     False  Gözleri Aşka Gülen  "
            ],
            "text/html": [
              "\n",
              "  <div id=\"df-55254011-24e3-4bf3-89f0-3416878909a7\" class=\"colab-df-container\">\n",
              "    <div>\n",
              "<style scoped>\n",
              "    .dataframe tbody tr th:only-of-type {\n",
              "        vertical-align: middle;\n",
              "    }\n",
              "\n",
              "    .dataframe tbody tr th {\n",
              "        vertical-align: top;\n",
              "    }\n",
              "\n",
              "    .dataframe thead th {\n",
              "        text-align: right;\n",
              "    }\n",
              "</style>\n",
              "<table border=\"1\" class=\"dataframe\">\n",
              "  <thead>\n",
              "    <tr style=\"text-align: right;\">\n",
              "      <th></th>\n",
              "      <th>date</th>\n",
              "      <th>country</th>\n",
              "      <th>position</th>\n",
              "      <th>streams</th>\n",
              "      <th>track_id</th>\n",
              "      <th>artists</th>\n",
              "      <th>artist_genres</th>\n",
              "      <th>duration</th>\n",
              "      <th>explicit</th>\n",
              "      <th>name</th>\n",
              "    </tr>\n",
              "  </thead>\n",
              "  <tbody>\n",
              "    <tr>\n",
              "      <th>0</th>\n",
              "      <td>4/15/2021</td>\n",
              "      <td>de</td>\n",
              "      <td>82</td>\n",
              "      <td>625718</td>\n",
              "      <td>20IvMlpi4U5RuDnAlXSRiV</td>\n",
              "      <td>['Haftbefehl']</td>\n",
              "      <td>['german hip hop']</td>\n",
              "      <td>198746</td>\n",
              "      <td>False</td>\n",
              "      <td>Crackküche</td>\n",
              "    </tr>\n",
              "    <tr>\n",
              "      <th>1</th>\n",
              "      <td>1/31/2019</td>\n",
              "      <td>jp</td>\n",
              "      <td>171</td>\n",
              "      <td>50896</td>\n",
              "      <td>0V1K6MU0utODk4yNqZKsFv</td>\n",
              "      <td>['Suchmos']</td>\n",
              "      <td>['japanese r&amp;b', 'j-rock', 'japanese soul', 'j...</td>\n",
              "      <td>408320</td>\n",
              "      <td>False</td>\n",
              "      <td>WATER</td>\n",
              "    </tr>\n",
              "    <tr>\n",
              "      <th>2</th>\n",
              "      <td>11/15/2018</td>\n",
              "      <td>tr</td>\n",
              "      <td>59</td>\n",
              "      <td>185439</td>\n",
              "      <td>4qzZm5EIdFurBpDieEmVc9</td>\n",
              "      <td>['Nilipek.']</td>\n",
              "      <td>['turkish singer-songwriter', 'turkish rock']</td>\n",
              "      <td>257142</td>\n",
              "      <td>False</td>\n",
              "      <td>Gözleri Aşka Gülen</td>\n",
              "    </tr>\n",
              "    <tr>\n",
              "      <th>3</th>\n",
              "      <td>11/22/2018</td>\n",
              "      <td>tr</td>\n",
              "      <td>133</td>\n",
              "      <td>111159</td>\n",
              "      <td>4qzZm5EIdFurBpDieEmVc9</td>\n",
              "      <td>['Nilipek.']</td>\n",
              "      <td>['turkish singer-songwriter', 'turkish rock']</td>\n",
              "      <td>257142</td>\n",
              "      <td>False</td>\n",
              "      <td>Gözleri Aşka Gülen</td>\n",
              "    </tr>\n",
              "    <tr>\n",
              "      <th>4</th>\n",
              "      <td>11/29/2018</td>\n",
              "      <td>tr</td>\n",
              "      <td>166</td>\n",
              "      <td>96204</td>\n",
              "      <td>4qzZm5EIdFurBpDieEmVc9</td>\n",
              "      <td>['Nilipek.']</td>\n",
              "      <td>['turkish singer-songwriter', 'turkish rock']</td>\n",
              "      <td>257142</td>\n",
              "      <td>False</td>\n",
              "      <td>Gözleri Aşka Gülen</td>\n",
              "    </tr>\n",
              "  </tbody>\n",
              "</table>\n",
              "</div>\n",
              "    <div class=\"colab-df-buttons\">\n",
              "\n",
              "  <div class=\"colab-df-container\">\n",
              "    <button class=\"colab-df-convert\" onclick=\"convertToInteractive('df-55254011-24e3-4bf3-89f0-3416878909a7')\"\n",
              "            title=\"Convert this dataframe to an interactive table.\"\n",
              "            style=\"display:none;\">\n",
              "\n",
              "  <svg xmlns=\"http://www.w3.org/2000/svg\" height=\"24px\" viewBox=\"0 -960 960 960\">\n",
              "    <path d=\"M120-120v-720h720v720H120Zm60-500h600v-160H180v160Zm220 220h160v-160H400v160Zm0 220h160v-160H400v160ZM180-400h160v-160H180v160Zm440 0h160v-160H620v160ZM180-180h160v-160H180v160Zm440 0h160v-160H620v160Z\"/>\n",
              "  </svg>\n",
              "    </button>\n",
              "\n",
              "  <style>\n",
              "    .colab-df-container {\n",
              "      display:flex;\n",
              "      gap: 12px;\n",
              "    }\n",
              "\n",
              "    .colab-df-convert {\n",
              "      background-color: #E8F0FE;\n",
              "      border: none;\n",
              "      border-radius: 50%;\n",
              "      cursor: pointer;\n",
              "      display: none;\n",
              "      fill: #1967D2;\n",
              "      height: 32px;\n",
              "      padding: 0 0 0 0;\n",
              "      width: 32px;\n",
              "    }\n",
              "\n",
              "    .colab-df-convert:hover {\n",
              "      background-color: #E2EBFA;\n",
              "      box-shadow: 0px 1px 2px rgba(60, 64, 67, 0.3), 0px 1px 3px 1px rgba(60, 64, 67, 0.15);\n",
              "      fill: #174EA6;\n",
              "    }\n",
              "\n",
              "    .colab-df-buttons div {\n",
              "      margin-bottom: 4px;\n",
              "    }\n",
              "\n",
              "    [theme=dark] .colab-df-convert {\n",
              "      background-color: #3B4455;\n",
              "      fill: #D2E3FC;\n",
              "    }\n",
              "\n",
              "    [theme=dark] .colab-df-convert:hover {\n",
              "      background-color: #434B5C;\n",
              "      box-shadow: 0px 1px 3px 1px rgba(0, 0, 0, 0.15);\n",
              "      filter: drop-shadow(0px 1px 2px rgba(0, 0, 0, 0.3));\n",
              "      fill: #FFFFFF;\n",
              "    }\n",
              "  </style>\n",
              "\n",
              "    <script>\n",
              "      const buttonEl =\n",
              "        document.querySelector('#df-55254011-24e3-4bf3-89f0-3416878909a7 button.colab-df-convert');\n",
              "      buttonEl.style.display =\n",
              "        google.colab.kernel.accessAllowed ? 'block' : 'none';\n",
              "\n",
              "      async function convertToInteractive(key) {\n",
              "        const element = document.querySelector('#df-55254011-24e3-4bf3-89f0-3416878909a7');\n",
              "        const dataTable =\n",
              "          await google.colab.kernel.invokeFunction('convertToInteractive',\n",
              "                                                    [key], {});\n",
              "        if (!dataTable) return;\n",
              "\n",
              "        const docLinkHtml = 'Like what you see? Visit the ' +\n",
              "          '<a target=\"_blank\" href=https://colab.research.google.com/notebooks/data_table.ipynb>data table notebook</a>'\n",
              "          + ' to learn more about interactive tables.';\n",
              "        element.innerHTML = '';\n",
              "        dataTable['output_type'] = 'display_data';\n",
              "        await google.colab.output.renderOutput(dataTable, element);\n",
              "        const docLink = document.createElement('div');\n",
              "        docLink.innerHTML = docLinkHtml;\n",
              "        element.appendChild(docLink);\n",
              "      }\n",
              "    </script>\n",
              "  </div>\n",
              "\n",
              "\n",
              "<div id=\"df-d1119591-4bcd-4b45-89c3-3eb87f895e55\">\n",
              "  <button class=\"colab-df-quickchart\" onclick=\"quickchart('df-d1119591-4bcd-4b45-89c3-3eb87f895e55')\"\n",
              "            title=\"Suggest charts\"\n",
              "            style=\"display:none;\">\n",
              "\n",
              "<svg xmlns=\"http://www.w3.org/2000/svg\" height=\"24px\"viewBox=\"0 0 24 24\"\n",
              "     width=\"24px\">\n",
              "    <g>\n",
              "        <path d=\"M19 3H5c-1.1 0-2 .9-2 2v14c0 1.1.9 2 2 2h14c1.1 0 2-.9 2-2V5c0-1.1-.9-2-2-2zM9 17H7v-7h2v7zm4 0h-2V7h2v10zm4 0h-2v-4h2v4z\"/>\n",
              "    </g>\n",
              "</svg>\n",
              "  </button>\n",
              "\n",
              "<style>\n",
              "  .colab-df-quickchart {\n",
              "      --bg-color: #E8F0FE;\n",
              "      --fill-color: #1967D2;\n",
              "      --hover-bg-color: #E2EBFA;\n",
              "      --hover-fill-color: #174EA6;\n",
              "      --disabled-fill-color: #AAA;\n",
              "      --disabled-bg-color: #DDD;\n",
              "  }\n",
              "\n",
              "  [theme=dark] .colab-df-quickchart {\n",
              "      --bg-color: #3B4455;\n",
              "      --fill-color: #D2E3FC;\n",
              "      --hover-bg-color: #434B5C;\n",
              "      --hover-fill-color: #FFFFFF;\n",
              "      --disabled-bg-color: #3B4455;\n",
              "      --disabled-fill-color: #666;\n",
              "  }\n",
              "\n",
              "  .colab-df-quickchart {\n",
              "    background-color: var(--bg-color);\n",
              "    border: none;\n",
              "    border-radius: 50%;\n",
              "    cursor: pointer;\n",
              "    display: none;\n",
              "    fill: var(--fill-color);\n",
              "    height: 32px;\n",
              "    padding: 0;\n",
              "    width: 32px;\n",
              "  }\n",
              "\n",
              "  .colab-df-quickchart:hover {\n",
              "    background-color: var(--hover-bg-color);\n",
              "    box-shadow: 0 1px 2px rgba(60, 64, 67, 0.3), 0 1px 3px 1px rgba(60, 64, 67, 0.15);\n",
              "    fill: var(--button-hover-fill-color);\n",
              "  }\n",
              "\n",
              "  .colab-df-quickchart-complete:disabled,\n",
              "  .colab-df-quickchart-complete:disabled:hover {\n",
              "    background-color: var(--disabled-bg-color);\n",
              "    fill: var(--disabled-fill-color);\n",
              "    box-shadow: none;\n",
              "  }\n",
              "\n",
              "  .colab-df-spinner {\n",
              "    border: 2px solid var(--fill-color);\n",
              "    border-color: transparent;\n",
              "    border-bottom-color: var(--fill-color);\n",
              "    animation:\n",
              "      spin 1s steps(1) infinite;\n",
              "  }\n",
              "\n",
              "  @keyframes spin {\n",
              "    0% {\n",
              "      border-color: transparent;\n",
              "      border-bottom-color: var(--fill-color);\n",
              "      border-left-color: var(--fill-color);\n",
              "    }\n",
              "    20% {\n",
              "      border-color: transparent;\n",
              "      border-left-color: var(--fill-color);\n",
              "      border-top-color: var(--fill-color);\n",
              "    }\n",
              "    30% {\n",
              "      border-color: transparent;\n",
              "      border-left-color: var(--fill-color);\n",
              "      border-top-color: var(--fill-color);\n",
              "      border-right-color: var(--fill-color);\n",
              "    }\n",
              "    40% {\n",
              "      border-color: transparent;\n",
              "      border-right-color: var(--fill-color);\n",
              "      border-top-color: var(--fill-color);\n",
              "    }\n",
              "    60% {\n",
              "      border-color: transparent;\n",
              "      border-right-color: var(--fill-color);\n",
              "    }\n",
              "    80% {\n",
              "      border-color: transparent;\n",
              "      border-right-color: var(--fill-color);\n",
              "      border-bottom-color: var(--fill-color);\n",
              "    }\n",
              "    90% {\n",
              "      border-color: transparent;\n",
              "      border-bottom-color: var(--fill-color);\n",
              "    }\n",
              "  }\n",
              "</style>\n",
              "\n",
              "  <script>\n",
              "    async function quickchart(key) {\n",
              "      const quickchartButtonEl =\n",
              "        document.querySelector('#' + key + ' button');\n",
              "      quickchartButtonEl.disabled = true;  // To prevent multiple clicks.\n",
              "      quickchartButtonEl.classList.add('colab-df-spinner');\n",
              "      try {\n",
              "        const charts = await google.colab.kernel.invokeFunction(\n",
              "            'suggestCharts', [key], {});\n",
              "      } catch (error) {\n",
              "        console.error('Error during call to suggestCharts:', error);\n",
              "      }\n",
              "      quickchartButtonEl.classList.remove('colab-df-spinner');\n",
              "      quickchartButtonEl.classList.add('colab-df-quickchart-complete');\n",
              "    }\n",
              "    (() => {\n",
              "      let quickchartButtonEl =\n",
              "        document.querySelector('#df-d1119591-4bcd-4b45-89c3-3eb87f895e55 button');\n",
              "      quickchartButtonEl.style.display =\n",
              "        google.colab.kernel.accessAllowed ? 'block' : 'none';\n",
              "    })();\n",
              "  </script>\n",
              "</div>\n",
              "\n",
              "    </div>\n",
              "  </div>\n"
            ],
            "application/vnd.google.colaboratory.intrinsic+json": {
              "type": "dataframe",
              "variable_name": "df"
            }
          },
          "metadata": {},
          "execution_count": 34
        }
      ],
      "source": [
        "import pandas as pd\n",
        "import numpy as np\n",
        "import matplotlib.pyplot as plt\n",
        "import seaborn as sns\n",
        "\n",
        "df = pd.read_csv('/content/charts.csv')\n",
        "df.head()"
      ]
    },
    {
      "cell_type": "code",
      "source": [
        "df.dtypes # what type of data type is used"
      ],
      "metadata": {
        "colab": {
          "base_uri": "https://localhost:8080/",
          "height": 397
        },
        "id": "gFzU6moPAM5H",
        "outputId": "3cf669be-58db-462e-af29-507c0e6fab53"
      },
      "execution_count": 35,
      "outputs": [
        {
          "output_type": "execute_result",
          "data": {
            "text/plain": [
              "date             object\n",
              "country          object\n",
              "position          int64\n",
              "streams           int64\n",
              "track_id         object\n",
              "artists          object\n",
              "artist_genres    object\n",
              "duration          int64\n",
              "explicit           bool\n",
              "name             object\n",
              "dtype: object"
            ],
            "text/html": [
              "<div>\n",
              "<style scoped>\n",
              "    .dataframe tbody tr th:only-of-type {\n",
              "        vertical-align: middle;\n",
              "    }\n",
              "\n",
              "    .dataframe tbody tr th {\n",
              "        vertical-align: top;\n",
              "    }\n",
              "\n",
              "    .dataframe thead th {\n",
              "        text-align: right;\n",
              "    }\n",
              "</style>\n",
              "<table border=\"1\" class=\"dataframe\">\n",
              "  <thead>\n",
              "    <tr style=\"text-align: right;\">\n",
              "      <th></th>\n",
              "      <th>0</th>\n",
              "    </tr>\n",
              "  </thead>\n",
              "  <tbody>\n",
              "    <tr>\n",
              "      <th>date</th>\n",
              "      <td>object</td>\n",
              "    </tr>\n",
              "    <tr>\n",
              "      <th>country</th>\n",
              "      <td>object</td>\n",
              "    </tr>\n",
              "    <tr>\n",
              "      <th>position</th>\n",
              "      <td>int64</td>\n",
              "    </tr>\n",
              "    <tr>\n",
              "      <th>streams</th>\n",
              "      <td>int64</td>\n",
              "    </tr>\n",
              "    <tr>\n",
              "      <th>track_id</th>\n",
              "      <td>object</td>\n",
              "    </tr>\n",
              "    <tr>\n",
              "      <th>artists</th>\n",
              "      <td>object</td>\n",
              "    </tr>\n",
              "    <tr>\n",
              "      <th>artist_genres</th>\n",
              "      <td>object</td>\n",
              "    </tr>\n",
              "    <tr>\n",
              "      <th>duration</th>\n",
              "      <td>int64</td>\n",
              "    </tr>\n",
              "    <tr>\n",
              "      <th>explicit</th>\n",
              "      <td>bool</td>\n",
              "    </tr>\n",
              "    <tr>\n",
              "      <th>name</th>\n",
              "      <td>object</td>\n",
              "    </tr>\n",
              "  </tbody>\n",
              "</table>\n",
              "</div><br><label><b>dtype:</b> object</label>"
            ]
          },
          "metadata": {},
          "execution_count": 35
        }
      ]
    },
    {
      "cell_type": "markdown",
      "source": [
        "#### Check for Missing Values"
      ],
      "metadata": {
        "id": "Y3KZn4pLtxNy"
      }
    },
    {
      "cell_type": "code",
      "source": [
        "print(df.isnull().sum()) # Shows how many missing values per columns\n",
        "print(df.isnull().sum().sum()) # Shows total number of missing values"
      ],
      "metadata": {
        "colab": {
          "base_uri": "https://localhost:8080/"
        },
        "id": "00gDLb3TtwbF",
        "outputId": "e6499ed6-3be2-49e8-f815-57032504721f"
      },
      "execution_count": 46,
      "outputs": [
        {
          "output_type": "stream",
          "name": "stdout",
          "text": [
            "date             0\n",
            "country          0\n",
            "position         0\n",
            "streams          0\n",
            "track_id         0\n",
            "artists          0\n",
            "artist_genres    0\n",
            "duration         0\n",
            "explicit         0\n",
            "name             0\n",
            "dtype: int64\n",
            "0\n"
          ]
        }
      ]
    },
    {
      "cell_type": "markdown",
      "source": [
        "##### Check for duplicate rows\n"
      ],
      "metadata": {
        "id": "TaTBR636vT86"
      }
    },
    {
      "cell_type": "code",
      "source": [
        "df_temp = df.copy()\n",
        "for col in df_temp.columns:\n",
        "    if df_temp[col].apply(type).eq(list).any():\n",
        "        df_temp[col] = df_temp[col].apply(str)\n",
        "\n",
        "# Now check for duplicates\n",
        "duplicates = df_temp.duplicated()\n",
        "print(duplicates.sum())  # Number of duplicate rows\n"
      ],
      "metadata": {
        "colab": {
          "base_uri": "https://localhost:8080/"
        },
        "id": "YvRycSTDwI_8",
        "outputId": "cf861941-f191-4caa-9574-092c1ecc9e2d"
      },
      "execution_count": 49,
      "outputs": [
        {
          "output_type": "stream",
          "name": "stdout",
          "text": [
            "0\n"
          ]
        }
      ]
    },
    {
      "cell_type": "code",
      "source": [
        "non_list_columns = ['date', 'country', 'position', 'streams', 'track_id', 'duration', 'explicit', 'name']\n",
        "duplicates = df.duplicated(subset=non_list_columns)\n",
        "print(duplicates.sum())\n"
      ],
      "metadata": {
        "colab": {
          "base_uri": "https://localhost:8080/"
        },
        "id": "fe08Y6gqwNz5",
        "outputId": "591a0e24-541f-4458-a165-05e699e594bb"
      },
      "execution_count": 50,
      "outputs": [
        {
          "output_type": "stream",
          "name": "stdout",
          "text": [
            "0\n"
          ]
        }
      ]
    },
    {
      "cell_type": "markdown",
      "source": [
        "##### Check for inconsistent Data"
      ],
      "metadata": {
        "id": "VQieVD6xwiqV"
      }
    },
    {
      "cell_type": "code",
      "source": [
        "for col in df.select_dtypes(include='object'):\n",
        "    if df[col].apply(type).eq(list).any():\n",
        "        print(f\"Skipping column '{col}' (contains lists)\")\n",
        "    else:\n",
        "        print(f\"Unique values in {col}:\\n{df[col].unique()}\\n\")\n"
      ],
      "metadata": {
        "colab": {
          "base_uri": "https://localhost:8080/"
        },
        "id": "vBiK1P1Nwr9L",
        "outputId": "de04a191-da0d-46ec-a1a4-dd34bd7a895b"
      },
      "execution_count": 52,
      "outputs": [
        {
          "output_type": "stream",
          "name": "stdout",
          "text": [
            "Unique values in country:\n",
            "['de' 'jp' 'tr' 'co' 'hu' 'hk' 'fi' 'at' 'eg' 'dk' 'sg' 'global' 'us' 'br'\n",
            " 'ph' 'it' 'tw' 'ar' 'se' 'my' 'pt' 'cl' 'no' 'ch' 'ca' 'cz' 'mx' 'lv'\n",
            " 'gr' 'lt' 'ee' 'pe' 'sk' 'bg' 'mt' 'cr' 'uy' 'sv' 'py' 'ec' 'bo' 'il'\n",
            " 'in' 'gb' 'nl' 'za' 'pl' 'ro' 'be' 'fr' 'ru' 'ua' 'au' 'es' 'ie' 'nz'\n",
            " 'is' 'id' 'gt' 'lu' 'vn' 'pa' 'hn' 'ni' 'do' 'th' 'cy' 'ae' 'kr' 'sa'\n",
            " 'ma' 'ad' 'ng' 'kz' 'pk' 'by' 've']\n",
            "\n",
            "Unique values in track_id:\n",
            "['20IvMlpi4U5RuDnAlXSRiV' '0V1K6MU0utODk4yNqZKsFv'\n",
            " '4qzZm5EIdFurBpDieEmVc9' ... '4jrnQI2AXsY6EEpTAxGNGx'\n",
            " '7zcI33S1GCNPpEC2dKacsX' '1icRHA6kFSipRbZREQPaA0']\n",
            "\n",
            "Skipping column 'artists' (contains lists)\n",
            "Skipping column 'artist_genres' (contains lists)\n",
            "Unique values in name:\n",
            "['Crackküche' 'WATER' 'Gözleri Aşka Gülen' ... 'Ég Er Farinn' 'Galerie'\n",
            " 'Valhalla']\n",
            "\n"
          ]
        }
      ]
    },
    {
      "cell_type": "code",
      "source": [
        "list_columns = [col for col in df.columns if df[col].apply(type).eq(list).any()]\n",
        "print(\"Columns containing lists:\", list_columns)"
      ],
      "metadata": {
        "colab": {
          "base_uri": "https://localhost:8080/"
        },
        "id": "XL1AKY92xTk8",
        "outputId": "177caf25-8bda-44bb-b5c9-8bb7933d5dea"
      },
      "execution_count": 53,
      "outputs": [
        {
          "output_type": "stream",
          "name": "stdout",
          "text": [
            "Columns containing lists: ['artists', 'artist_genres']\n"
          ]
        }
      ]
    },
    {
      "cell_type": "markdown",
      "source": [
        "##### Check Datatype"
      ],
      "metadata": {
        "id": "LMmtQ8qpy0_m"
      }
    },
    {
      "cell_type": "code",
      "source": [
        "print(df.dtypes)"
      ],
      "metadata": {
        "colab": {
          "base_uri": "https://localhost:8080/"
        },
        "id": "XLMcxy0hy349",
        "outputId": "6e66183d-ee32-4c74-a8b9-658b43af7a72"
      },
      "execution_count": 54,
      "outputs": [
        {
          "output_type": "stream",
          "name": "stdout",
          "text": [
            "date             datetime64[ns]\n",
            "country                  object\n",
            "position                  int64\n",
            "streams                   int64\n",
            "track_id                 object\n",
            "artists                  object\n",
            "artist_genres            object\n",
            "duration                  int64\n",
            "explicit                   bool\n",
            "name                     object\n",
            "dtype: object\n"
          ]
        }
      ]
    },
    {
      "cell_type": "markdown",
      "source": [
        "#### Look for Outliers (optional, for numeric columns)"
      ],
      "metadata": {
        "id": "zLM5Ma0vzKbX"
      }
    },
    {
      "cell_type": "code",
      "source": [
        "print(df.describe())"
      ],
      "metadata": {
        "colab": {
          "base_uri": "https://localhost:8080/"
        },
        "id": "RUjCsZ1DzL2W",
        "outputId": "ee4f3c10-c874-4d94-9840-a2d57b59fea0"
      },
      "execution_count": 55,
      "outputs": [
        {
          "output_type": "stream",
          "name": "stdout",
          "text": [
            "                                date      position       streams      duration\n",
            "count                        1048575  1.048575e+06  1.048575e+06  1.048575e+06\n",
            "mean   2018-12-30 05:36:48.408554496  9.705366e+01  3.102183e+05  2.148016e+05\n",
            "min              2013-04-28 00:00:00  1.000000e+00  0.000000e+00  0.000000e+00\n",
            "25%              2016-12-22 00:00:00  4.400000e+01  1.285900e+04  1.885600e+05\n",
            "50%              2019-02-14 00:00:00  9.500000e+01  4.538900e+04  2.116000e+05\n",
            "75%              2021-02-11 00:00:00  1.480000e+02  1.830540e+05  2.360010e+05\n",
            "max              2023-04-06 00:00:00  3.440000e+02  7.846090e+07  7.963609e+06\n",
            "std                              NaN  5.938284e+01  1.307167e+06  4.569495e+04\n"
          ]
        }
      ]
    },
    {
      "cell_type": "code",
      "source": [
        "import matplotlib.pyplot as plt\n",
        "\n",
        "df.boxplot(figsize=(10, 5))\n",
        "plt.show()"
      ],
      "metadata": {
        "colab": {
          "base_uri": "https://localhost:8080/",
          "height": 460
        },
        "id": "cdzjTptozZg3",
        "outputId": "3fe1f5f5-01c9-4b55-d549-57b32a515998"
      },
      "execution_count": 56,
      "outputs": [
        {
          "output_type": "display_data",
          "data": {
            "text/plain": [
              "<Figure size 1000x500 with 1 Axes>"
            ],
            "image/png": "[encoded data removed]"
          },
          "metadata": {}
        }
      ]
    },
    {
      "cell_type": "markdown",
      "source": [
        "#### Visualize Histograms (Better than Boxplot for Skewed Data)"
      ],
      "metadata": {
        "id": "TYQqZS2P1VgA"
      }
    },
    {
      "cell_type": "code",
      "source": [
        "import matplotlib.pyplot as plt\n",
        "\n",
        "numeric_cols = ['position', 'streams', 'duration']\n",
        "df[numeric_cols].hist(bins=50, figsize=(12, 5))\n",
        "plt.tight_layout()\n",
        "plt.show()\n"
      ],
      "metadata": {
        "colab": {
          "base_uri": "https://localhost:8080/",
          "height": 464
        },
        "id": "rnHsL2LO1GeA",
        "outputId": "1c20f77f-d21e-41f7-d1d5-344cd843f9c4"
      },
      "execution_count": 59,
      "outputs": [
        {
          "output_type": "display_data",
          "data": {
            "text/plain": [
              "<Figure size 1200x500 with 4 Axes>"
            ],
            "image/png": "[encoded data removed]"
          },
          "metadata": {}
        }
      ]
    },
    {
      "cell_type": "markdown",
      "source": [
        "#### Detect Outliers Using IQR Method"
      ],
      "metadata": {
        "id": "bGqGRSTH1Z0Y"
      }
    },
    {
      "cell_type": "code",
      "source": [
        "def detect_outliers_iqr(col):\n",
        "    Q1 = df[col].quantile(0.25)\n",
        "    Q3 = df[col].quantile(0.75)\n",
        "    IQR = Q3 - Q1\n",
        "    lower = Q1 - 1.5 * IQR\n",
        "    upper = Q3 + 1.5 * IQR\n",
        "    return df[(df[col] < lower) | (df[col] > upper)]\n",
        "\n",
        "# Example: detect outliers in 'Position'\n",
        "outliers_position = detect_outliers_iqr('position')\n",
        "print(f\"Number of outliers in 'Position': {len(outliers_position)}\")"
      ],
      "metadata": {
        "colab": {
          "base_uri": "https://localhost:8080/"
        },
        "id": "3tuzvvFN2O-b",
        "outputId": "bfa1265c-bc5b-4518-b922-b2c3bb151df9"
      },
      "execution_count": 62,
      "outputs": [
        {
          "output_type": "stream",
          "name": "stdout",
          "text": [
            "Number of outliers in 'streams': 60\n"
          ]
        }
      ]
    },
    {
      "cell_type": "code",
      "source": [
        "def detect_outliers_iqr(col):\n",
        "    Q1 = df[col].quantile(0.25)\n",
        "    Q3 = df[col].quantile(0.75)\n",
        "    IQR = Q3 - Q1\n",
        "    lower = Q1 - 1.5 * IQR\n",
        "    upper = Q3 + 1.5 * IQR\n",
        "    return df[(df[col] < lower) | (df[col] > upper)]\n",
        "\n",
        "# Example: detect outliers in 'Duration'\n",
        "outliers_duration = detect_outliers_iqr('duration')\n",
        "print(f\"Number of outliers in 'duration': {len(outliers_duration)}\")"
      ],
      "metadata": {
        "colab": {
          "base_uri": "https://localhost:8080/"
        },
        "id": "yHx82UoH2B8K",
        "outputId": "535ba45d-d1fb-434b-8320-a0f5b480cbac"
      },
      "execution_count": 65,
      "outputs": [
        {
          "output_type": "stream",
          "name": "stdout",
          "text": [
            "Number of outliers in 'duration': 36182\n"
          ]
        }
      ]
    },
    {
      "cell_type": "code",
      "source": [
        "def detect_outliers_iqr(col):\n",
        "    Q1 = df[col].quantile(0.25)\n",
        "    Q3 = df[col].quantile(0.75)\n",
        "    IQR = Q3 - Q1\n",
        "    lower = Q1 - 1.5 * IQR\n",
        "    upper = Q3 + 1.5 * IQR\n",
        "    return df[(df[col] < lower) | (df[col] > upper)]\n",
        "\n",
        "# Example: detect outliers in 'streams'\n",
        "outliers_streams = detect_outliers_iqr('streams')\n",
        "print(f\"Number of outliers in 'streams': {len(outliers_streams)}\")"
      ],
      "metadata": {
        "colab": {
          "base_uri": "https://localhost:8080/"
        },
        "id": "PfhW6rZu1erd",
        "outputId": "ce91dbfc-04d7-4b0d-b84e-1a3ae2d83ba3"
      },
      "execution_count": 64,
      "outputs": [
        {
          "output_type": "stream",
          "name": "stdout",
          "text": [
            "Number of outliers in 'streams': 128489\n"
          ]
        }
      ]
    },
    {
      "cell_type": "markdown",
      "source": [
        "##### Option A: Remove outliers: Removes those rows completely."
      ],
      "metadata": {
        "id": "EAaPzLXa6W4G"
      }
    },
    {
      "cell_type": "code",
      "source": [
        "def remove_outliers_iqr(df, col):\n",
        "    Q1 = df[col].quantile(0.25)\n",
        "    Q3 = df[col].quantile(0.75)\n",
        "    IQR = Q3 - Q1\n",
        "    lower = Q1 - 1.5 * IQR\n",
        "    upper = Q3 + 1.5 * IQR\n",
        "    return df[(df[col] >= lower) & (df[col] <= upper)]\n",
        "\n",
        "df_cleaned = df.copy()\n",
        "for col in ['streams', 'duration', 'position']:\n",
        "    df_cleaned = remove_outliers_iqr(df_cleaned, col)"
      ],
      "metadata": {
        "id": "0JYmCmxq6boV"
      },
      "execution_count": 66,
      "outputs": []
    },
    {
      "cell_type": "markdown",
      "source": [
        "##### Option B: Cap outliers (winsorize): Replaces extreme values with boundary limits instead of removing them."
      ],
      "metadata": {
        "id": "jsYOXxNa6jbC"
      }
    },
    {
      "cell_type": "code",
      "source": [
        "def cap_outliers_iqr(df, col):\n",
        "    Q1 = df[col].quantile(0.25)\n",
        "    Q3 = df[col].quantile(0.75)\n",
        "    IQR = Q3 - Q1\n",
        "    lower = Q1 - 1.5 * IQR\n",
        "    upper = Q3 + 1.5 * IQR\n",
        "    df[col] = df[col].clip(lower, upper)\n",
        "    return df\n",
        "\n",
        "df_capped = df.copy()\n",
        "for col in ['streams', 'duration', 'position']:\n",
        "    df_capped = cap_outliers_iqr(df_capped, col)\n"
      ],
      "metadata": {
        "id": "_70ltVg16pFo"
      },
      "execution_count": 67,
      "outputs": []
    },
    {
      "cell_type": "code",
      "source": [
        "def remove_outliers_iqr(df, col):\n",
        "    Q1 = df[col].quantile(0.25)\n",
        "    Q3 = df[col].quantile(0.75)\n",
        "    IQR = Q3 - Q1\n",
        "    lower = Q1 - 1.5 * IQR\n",
        "    upper = Q3 + 1.5 * IQR\n",
        "    return df[(df[col] >= lower) & (df[col] <= upper)]\n",
        "\n",
        "# Make a clean copy\n",
        "df_cleaned = df.copy()\n",
        "\n",
        "# Remove outliers from all relevant columns\n",
        "for col in ['position', 'streams', 'duration']:\n",
        "    df_cleaned = remove_outliers_iqr(df_cleaned, col)\n"
      ],
      "metadata": {
        "id": "l5H7Kxrq7QYw"
      },
      "execution_count": 69,
      "outputs": []
    },
    {
      "cell_type": "code",
      "source": [
        "print(\"Original dataset size :\", len(df))\n",
        "print(\"Cleaned dataset size  :\", len(df_cleaned))"
      ],
      "metadata": {
        "colab": {
          "base_uri": "https://localhost:8080/"
        },
        "id": "fIr12qyC7TAc",
        "outputId": "fcad9d44-cf91-4ed7-f5a3-43fcac621a9d"
      },
      "execution_count": 70,
      "outputs": [
        {
          "output_type": "stream",
          "name": "stdout",
          "text": [
            "Original dataset size : 1048575\n",
            "Cleaned dataset size  : 887331\n"
          ]
        }
      ]
    },
    {
      "cell_type": "code",
      "source": [
        "import matplotlib.pyplot as plt\n",
        "\n",
        "def compare_boxplots(original_df, cleaned_df, cols):\n",
        "    for col in cols:\n",
        "        plt.figure(figsize=(10, 4))\n",
        "\n",
        "        plt.subplot(1, 2, 1)\n",
        "        original_df.boxplot(column=col)\n",
        "        plt.title(f\"{col} - Original\")\n",
        "\n",
        "        plt.subplot(1, 2, 2)\n",
        "        cleaned_df.boxplot(column=col)\n",
        "        plt.title(f\"{col} - After Outlier Removal\")\n",
        "\n",
        "        plt.show()\n",
        "\n",
        "# Compare all three\n",
        "compare_boxplots(df, df_cleaned, ['position', 'streams', 'duration'])"
      ],
      "metadata": {
        "colab": {
          "base_uri": "https://localhost:8080/",
          "height": 1000
        },
        "id": "BHNcVwm97YsQ",
        "outputId": "d73ea5ce-751d-46d6-f2b1-511cc2ff952f"
      },
      "execution_count": 71,
      "outputs": [
        {
          "output_type": "display_data",
          "data": {
            "text/plain": [
              "<Figure size 1000x400 with 2 Axes>"
            ],
            "image/png": "[encoded data removed]"
          },
          "metadata": {}
        },
        {
          "output_type": "display_data",
          "data": {
            "text/plain": [
              "<Figure size 1000x400 with 2 Axes>"
            ],
            "image/png": "[encoded data removed]"
          },
          "metadata": {}
        },
        {
          "output_type": "display_data",
          "data": {
            "text/plain": [
              "<Figure size 1000x400 with 2 Axes>"
            ],
            "image/png": "[encoded data removed]"
          },
          "metadata": {}
        }
      ]
    },
    {
      "cell_type": "markdown",
      "source": [
        "1. Trends & Popularity Analysis\n",
        "Top Songs Over Time: Line chart showing the most streamed songs over different dates.?"
      ],
      "metadata": {
        "id": "CIRzMImNwEIq"
      }
    }
  ]
}